{
 "cells": [
  {
   "cell_type": "code",
   "execution_count": null,
   "metadata": {},
   "outputs": [],
   "source": [
    "import os\n",
    "import sklearn as sk\n",
    "import numpy as np\n",
    "import pandas as pd\n",
    "from matplotlib import pyplot as plt\n",
    "from nltk.tag import StanfordNERTagger\n",
    "from nltk.tokenize import word_tokenize\n",
    "import nltk\n",
    "nltk.download('punkt')"
   ]
  },
  {
   "cell_type": "markdown",
   "metadata": {},
   "source": [
    "# Required file paths and variables"
   ]
  },
  {
   "cell_type": "code",
   "execution_count": null,
   "metadata": {},
   "outputs": [],
   "source": [
    "BASE_PATH = \"/data/GutenbergCorpus/\"\n",
    "CORPUS_PATH = os.path.join(BASE_PATH, \"Gutenberg_English_Fiction_1k\")\n",
    "DATA_PATH = os.path.join(CORPUS_PATH, \"Gutenberg_19th_century_English_Fiction\")"
   ]
  },
  {
   "cell_type": "code",
   "execution_count": null,
   "metadata": {},
   "outputs": [],
   "source": [
    "meta = pd.read_csv(os.path.join(CORPUS_PATH, \"master996.csv\"), sep=\";\", header=0, encoding='latin1')"
   ]
  },
  {
   "cell_type": "markdown",
   "metadata": {},
   "source": [
    "# Dataset Overview"
   ]
  },
  {
   "cell_type": "code",
   "execution_count": null,
   "metadata": {},
   "outputs": [],
   "source": [
    "meta"
   ]
  },
  {
   "cell_type": "code",
   "execution_count": null,
   "metadata": {},
   "outputs": [],
   "source": [
    "#Extract target Variable and filenames\n",
    "targets = meta[\"guten_genre\"]\n",
    "book_ids = meta[\"book_id\"]\n",
    "book_names = meta[\"Book_Name\"]\n",
    "author_names = meta[\"Author_Name\"]\n",
    "filenames = [os.path.join(DATA_PATH, idx.split(\".\")[0]+\"-content.html\") for idx in book_ids]"
   ]
  },
  {
   "cell_type": "code",
   "execution_count": null,
   "metadata": {},
   "outputs": [],
   "source": [
    "file = filenames[0]\n",
    "content = open(file, 'r').read()\n",
    "sentences = content.split('<p>')\n",
    "sentences = list(map(lambda x:x.rstrip(), sentences))\n",
    "ner_tagger = StanfordNERTagger(os.path.join(BASE_PATH, \"stanford-ner-4.0.0\", \"classifiers\", \"english.all.3class.distsim.crf.ser.gz\"), os.path.join(BASE_PATH, \"stanford-ner-4.0.0\", \"stanford-ner.jar\"), encoding=\"utf-8\")\n",
    "sentence = sentences[0]\n",
    "tokenized_text = word_tokenize(sentence)\n",
    "classified_text = ner_tagger.tag(tokenized_text)"
   ]
  },
  {
   "cell_type": "code",
   "execution_count": null,
   "metadata": {},
   "outputs": [],
   "source": [
    "files_dict = {}\n",
    "for file_name in filenames:\n",
    "    content = open(file_name, 'r').read()\n",
    "    sentences = content.split('<p>')\n",
    "    sentences = list(map(lambda x:x.rstrip(), sentences))\n",
    "    ner_tagger = StanfordNERTagger(os.path.join(BASE_PATH, \"classifiers\", \"english.all.3class.distsim.crf.ser.gz\"), os.path.join(BASE_PATH, \"stanford-ner.jar\"), encoding=\"utf-8\")\n",
    "    files_dict[file_name] = {\n",
    "        'sentences': sentences[1:]\n",
    "    }"
   ]
  }
 ],
 "metadata": {
  "kernelspec": {
   "display_name": "Python 3",
   "language": "python",
   "name": "python3"
  },
  "language_info": {
   "codemirror_mode": {
    "name": "ipython",
    "version": 3
   },
   "file_extension": ".py",
   "mimetype": "text/x-python",
   "name": "python",
   "nbconvert_exporter": "python",
   "pygments_lexer": "ipython3",
   "version": "3.5.2"
  }
 },
 "nbformat": 4,
 "nbformat_minor": 2
}
